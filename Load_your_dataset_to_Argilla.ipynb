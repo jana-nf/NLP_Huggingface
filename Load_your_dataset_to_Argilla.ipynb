{
  "cells": [
    {
      "cell_type": "markdown",
      "metadata": {
        "id": "view-in-github",
        "colab_type": "text"
      },
      "source": [
        "<a href=\"https://colab.research.google.com/github/jana-nf/NLP_Huggingface/blob/main/Load_your_dataset_to_Argilla.ipynb\" target=\"_parent\"><img src=\"https://colab.research.google.com/assets/colab-badge.svg\" alt=\"Open In Colab\"/></a>"
      ]
    },
    {
      "cell_type": "markdown",
      "metadata": {
        "id": "IwcDRzvr3AbU"
      },
      "source": [
        "# Load your dataset to Argilla"
      ]
    },
    {
      "cell_type": "code",
      "execution_count": null,
      "metadata": {
        "id": "FOXjlGU03Abi"
      },
      "outputs": [],
      "source": [
        "!pip install argilla datasets"
      ]
    },
    {
      "cell_type": "code",
      "execution_count": null,
      "metadata": {
        "id": "R16eDANA3Abp"
      },
      "outputs": [],
      "source": [
        "import argilla as rg\n",
        "\n",
        "HF_TOKEN = \"...\"  # only for private spaces\n",
        "\n",
        "client = rg.Argilla(\n",
        "    api_url=\"...\",\n",
        "    api_key=\"...\",\n",
        "    headers={\"Authorization\": f\"Bearer {HF_TOKEN}\"},  # only for private spaces\n",
        ")"
      ]
    },
    {
      "cell_type": "code",
      "execution_count": null,
      "metadata": {
        "id": "HOfe58bN3Abs",
        "outputId": "6b5c7d19-8303-48b2-a9f4-1c7de7c8afa1"
      },
      "outputs": [
        {
          "data": {
            "text/plain": [
              "{'text': Value(dtype='string', id=None),\n",
              " 'label': Value(dtype='int64', id=None),\n",
              " 'label_text': Value(dtype='string', id=None)}"
            ]
          },
          "execution_count": null,
          "metadata": {},
          "output_type": "execute_result"
        }
      ],
      "source": [
        "from datasets import load_dataset\n",
        "\n",
        "data = load_dataset(\"SetFit/ag_news\", split=\"train\")\n",
        "data.features"
      ]
    },
    {
      "cell_type": "code",
      "execution_count": null,
      "metadata": {
        "id": "UFHNaOkY3Abx"
      },
      "outputs": [],
      "source": [
        "settings = rg.Settings(\n",
        "    fields=[rg.TextField(name=\"text\")],\n",
        "    questions=[\n",
        "        rg.LabelQuestion(\n",
        "            name=\"label\", title=\"Classify the text:\", labels=data.unique(\"label_text\")\n",
        "        ),\n",
        "        rg.SpanQuestion(\n",
        "            name=\"entities\",\n",
        "            title=\"Highlight all the entities in the text:\",\n",
        "            labels=[\"PERSON\", \"ORG\", \"LOC\", \"EVENT\"],\n",
        "            field=\"text\",\n",
        "        ),\n",
        "    ],\n",
        ")"
      ]
    },
    {
      "cell_type": "code",
      "execution_count": null,
      "metadata": {
        "id": "nPdISvU93Abz"
      },
      "outputs": [],
      "source": [
        "dataset = rg.Dataset(name=\"ag_news\", settings=settings)\n",
        "\n",
        "dataset.create()"
      ]
    },
    {
      "cell_type": "code",
      "execution_count": null,
      "metadata": {
        "id": "sVUTk3iC3Ab1"
      },
      "outputs": [],
      "source": [
        "dataset.records.log(data, mapping={\"label_text\": \"label\"})"
      ]
    }
  ],
  "metadata": {
    "colab": {
      "provenance": [],
      "include_colab_link": true
    },
    "language_info": {
      "name": "python"
    }
  },
  "nbformat": 4,
  "nbformat_minor": 0
}