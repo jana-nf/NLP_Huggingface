{
  "nbformat": 4,
  "nbformat_minor": 0,
  "metadata": {
    "colab": {
      "provenance": [],
      "authorship_tag": "ABX9TyP1ZQ4vQlgRkIkWhmYsV/+9",
      "include_colab_link": true
    },
    "kernelspec": {
      "name": "python3",
      "display_name": "Python 3"
    },
    "language_info": {
      "name": "python"
    }
  },
  "cells": [
    {
      "cell_type": "markdown",
      "metadata": {
        "id": "view-in-github",
        "colab_type": "text"
      },
      "source": [
        "<a href=\"https://colab.research.google.com/github/jana-nf/NLP_Huggingface/blob/main/Impacto_CO2_ML_Jana_nf.ipynb\" target=\"_parent\"><img src=\"https://colab.research.google.com/assets/colab-badge.svg\" alt=\"Open In Colab\"/></a>"
      ]
    },
    {
      "cell_type": "markdown",
      "source": [
        "#Impacto de CO2 no ML\n",
        "\n",
        "Machine Learning has a carbon footprint.\n",
        "\n",
        "We've made a tool to help you estimate yours:\n",
        "\n",
        "- Compute your GPU's carbon emissions\n",
        "\n",
        "- Push for more transparency in our field by including the results in your publication (research paper, blog post etc.)\n",
        "\n",
        "- Install codecarbon to integrate carbon estimations in your Python workfow."
      ],
      "metadata": {
        "id": "u2tj2LVQ7y9h"
      }
    },
    {
      "cell_type": "code",
      "source": [
        "\n",
        "\\usepackage{hyperref}\n",
        "\n",
        "\\subsection{CO2 Emission Related to Experiments}\n",
        "\n",
        "Experiments were conducted using Google Cloud Platform in region southamerica-east1, which has a carbon efficiency of 0.2 kgCO$_2$eq/kWh. A cumulative of 100 hours of computation was performed on hardware of type A100 PCIe 40/80GB (TDP of 250W).\n",
        "\n",
        "Total emissions are estimated to be 5 kgCO$_2$eq of which 100 percents were directly offset by the cloud provider.\n",
        "\n",
        "%Uncomment if you bought additional offsets:\n",
        "%XX kg CO2eq were manually offset through \\href{link}{Offset Provider}.\n",
        "\n",
        "Estimations were conducted using the \\href{https://mlco2.github.io/impact#compute}{MachineLearning Impact calculator} presented in \\cite{lacoste2019quantifying}.\n",
        "\n",
        "@article{lacoste2019quantifying,\n",
        "  title={Quantifying the Carbon Emissions of Machine Learning},\n",
        "  author={Lacoste, Alexandre and Luccioni, Alexandra and Schmidt, Victor and Dandres, Thomas},\n",
        "  journal={arXiv preprint arXiv:1910.09700},\n",
        "  year={2019}\n",
        "}\n",
        ""
      ],
      "metadata": {
        "id": "gjtVtp9A_JkV"
      },
      "execution_count": null,
      "outputs": []
    }
  ]
}