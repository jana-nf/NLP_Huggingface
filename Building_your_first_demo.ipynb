{
  "cells": [
    {
      "cell_type": "markdown",
      "metadata": {
        "id": "view-in-github",
        "colab_type": "text"
      },
      "source": [
        "<a href=\"https://colab.research.google.com/github/jana-nf/NLP_Huggingface/blob/main/Building_your_first_demo.ipynb\" target=\"_parent\"><img src=\"https://colab.research.google.com/assets/colab-badge.svg\" alt=\"Open In Colab\"/></a>"
      ]
    },
    {
      "cell_type": "markdown",
      "metadata": {
        "id": "s_q0aaa4yDyG"
      },
      "source": [
        "# Building your first demo"
      ]
    },
    {
      "cell_type": "markdown",
      "metadata": {
        "id": "facNu3MlyDyS"
      },
      "source": [
        "Install the Transformers, Datasets, and Evaluate libraries to run this notebook."
      ]
    },
    {
      "cell_type": "code",
      "execution_count": null,
      "metadata": {
        "id": "EtOKBBT4yDyU"
      },
      "outputs": [],
      "source": [
        "!pip install datasets evaluate transformers[sentencepiece]\n",
        "!pip install gradio"
      ]
    },
    {
      "cell_type": "code",
      "execution_count": null,
      "metadata": {
        "id": "hDfueqYKyDyZ"
      },
      "outputs": [],
      "source": [
        "import gradio as gr\n",
        "\n",
        "\n",
        "def greet(name):\n",
        "    return \"Hello \" + name\n",
        "\n",
        "\n",
        "demo = gr.Interface(fn=greet, inputs=\"text\", outputs=\"text\")\n",
        "\n",
        "demo.launch()"
      ]
    },
    {
      "cell_type": "code",
      "execution_count": null,
      "metadata": {
        "id": "w-GwJMxtyDyc"
      },
      "outputs": [],
      "source": [
        "import gradio as gr\n",
        "\n",
        "\n",
        "def greet(name):\n",
        "    return \"Hello \" + name\n",
        "\n",
        "\n",
        "# We instantiate the Textbox class\n",
        "textbox = gr.Textbox(label=\"Type your name here:\", placeholder=\"John Doe\", lines=2)\n",
        "\n",
        "gr.Interface(fn=greet, inputs=textbox, outputs=\"text\").launch()"
      ]
    },
    {
      "cell_type": "code",
      "execution_count": null,
      "metadata": {
        "id": "dNZNPKVOyDye"
      },
      "outputs": [],
      "source": [
        "from transformers import pipeline\n",
        "\n",
        "model = pipeline(\"text-generation\")\n",
        "\n",
        "\n",
        "def predict(prompt):\n",
        "    completion = model(prompt)[0][\"generated_text\"]\n",
        "    return completion"
      ]
    },
    {
      "cell_type": "code",
      "execution_count": null,
      "metadata": {
        "id": "0EUubm3cyDyg"
      },
      "outputs": [],
      "source": [
        "import gradio as gr\n",
        "\n",
        "gr.Interface(fn=predict, inputs=\"text\", outputs=\"text\").launch()"
      ]
    }
  ],
  "metadata": {
    "colab": {
      "provenance": [],
      "include_colab_link": true
    }
  },
  "nbformat": 4,
  "nbformat_minor": 0
}