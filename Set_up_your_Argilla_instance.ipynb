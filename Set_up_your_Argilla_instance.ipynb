{
  "cells": [
    {
      "cell_type": "markdown",
      "metadata": {
        "id": "view-in-github",
        "colab_type": "text"
      },
      "source": [
        "<a href=\"https://colab.research.google.com/github/jana-nf/NLP_Huggingface/blob/main/Set_up_your_Argilla_instance.ipynb\" target=\"_parent\"><img src=\"https://colab.research.google.com/assets/colab-badge.svg\" alt=\"Open In Colab\"/></a>"
      ]
    },
    {
      "cell_type": "markdown",
      "metadata": {
        "id": "xXEJJP3428Hu"
      },
      "source": [
        "# Set up your Argilla instance"
      ]
    },
    {
      "cell_type": "code",
      "execution_count": null,
      "metadata": {
        "id": "hNug-Uln28H5"
      },
      "outputs": [],
      "source": [
        "!pip install argilla"
      ]
    },
    {
      "cell_type": "code",
      "execution_count": null,
      "metadata": {
        "id": "_xDyoeLr28IM"
      },
      "outputs": [],
      "source": [
        "import argilla as rg\n",
        "\n",
        "HF_TOKEN = \"...\"  # only for private spaces\n",
        "\n",
        "client = rg.Argilla(\n",
        "    api_url=\"...\",\n",
        "    api_key=\"...\",\n",
        "    headers={\"Authorization\": f\"Bearer {HF_TOKEN}\"},  # only for private spaces\n",
        ")"
      ]
    },
    {
      "cell_type": "code",
      "execution_count": null,
      "metadata": {
        "id": "Gcbw7xLe28IQ"
      },
      "outputs": [],
      "source": [
        "client.me"
      ]
    }
  ],
  "metadata": {
    "colab": {
      "provenance": [],
      "include_colab_link": true
    },
    "language_info": {
      "name": "python"
    }
  },
  "nbformat": 4,
  "nbformat_minor": 0
}